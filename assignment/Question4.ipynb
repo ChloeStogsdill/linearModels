{
 "cells": [
  {
   "cell_type": "code",
   "execution_count": 1,
   "metadata": {},
   "outputs": [],
   "source": [
    "import pandas as pd\n",
    "import numpy as np\n",
    "import seaborn as sns\n",
    "import matplotlib.pyplot as plt"
   ]
  },
  {
   "cell_type": "code",
   "execution_count": null,
   "metadata": {},
   "outputs": [
    {
     "data": {
      "text/html": [
       "<div>\n",
       "<style scoped>\n",
       "    .dataframe tbody tr th:only-of-type {\n",
       "        vertical-align: middle;\n",
       "    }\n",
       "\n",
       "    .dataframe tbody tr th {\n",
       "        vertical-align: top;\n",
       "    }\n",
       "\n",
       "    .dataframe thead th {\n",
       "        text-align: right;\n",
       "    }\n",
       "</style>\n",
       "<table border=\"1\" class=\"dataframe\">\n",
       "  <thead>\n",
       "    <tr style=\"text-align: right;\">\n",
       "      <th></th>\n",
       "      <th>Unnamed: 0</th>\n",
       "      <th>age</th>\n",
       "      <th>transplant</th>\n",
       "      <th>y</th>\n",
       "    </tr>\n",
       "  </thead>\n",
       "  <tbody>\n",
       "    <tr>\n",
       "      <th>0</th>\n",
       "      <td>1</td>\n",
       "      <td>53</td>\n",
       "      <td>control</td>\n",
       "      <td>0</td>\n",
       "    </tr>\n",
       "    <tr>\n",
       "      <th>1</th>\n",
       "      <td>2</td>\n",
       "      <td>43</td>\n",
       "      <td>control</td>\n",
       "      <td>0</td>\n",
       "    </tr>\n",
       "    <tr>\n",
       "      <th>2</th>\n",
       "      <td>3</td>\n",
       "      <td>52</td>\n",
       "      <td>control</td>\n",
       "      <td>0</td>\n",
       "    </tr>\n",
       "    <tr>\n",
       "      <th>3</th>\n",
       "      <td>4</td>\n",
       "      <td>52</td>\n",
       "      <td>control</td>\n",
       "      <td>0</td>\n",
       "    </tr>\n",
       "    <tr>\n",
       "      <th>4</th>\n",
       "      <td>5</td>\n",
       "      <td>54</td>\n",
       "      <td>control</td>\n",
       "      <td>0</td>\n",
       "    </tr>\n",
       "  </tbody>\n",
       "</table>\n",
       "</div>"
      ],
      "text/plain": [
       "   Unnamed: 0  age transplant  y\n",
       "0           1   53    control  0\n",
       "1           2   43    control  0\n",
       "2           3   52    control  0\n",
       "3           4   52    control  0\n",
       "4           5   54    control  0"
      ]
     },
     "execution_count": 5,
     "metadata": {},
     "output_type": "execute_result"
    }
   ],
   "source": [
    "# Load the data\n",
    "df = pd.read_csv('data/heart_hw.csv')\n"
   ]
  },
  {
   "cell_type": "code",
   "execution_count": 7,
   "metadata": {},
   "outputs": [
    {
     "name": "stdout",
     "output_type": "stream",
     "text": [
      "Proportion of survival in control group: 0.1176\n",
      "Proportion of survival in treatment group: 0.3478\n",
      "Average Treatment Effect (ATE): 0.2302\n"
     ]
    }
   ],
   "source": [
    "# Compute the proportion of survivors in the control group\n",
    "control_survival_rate = df[df[\"transplant\"] == \"control\"][\"y\"].mean()\n",
    "\n",
    "# Compute the proportion of survivors in the treatment group\n",
    "treatment_survival_rate = df[df[\"transplant\"] == \"treatment\"][\"y\"].mean()\n",
    "\n",
    "# Compute the average treatment effect (ATE)\n",
    "ate = treatment_survival_rate - control_survival_rate\n",
    "\n",
    "# Print the results\n",
    "print(f\"Proportion of survival in control group: {control_survival_rate:.4f}\")\n",
    "print(f\"Proportion of survival in treatment group: {treatment_survival_rate:.4f}\")\n",
    "print(f\"Average Treatment Effect (ATE): {ate:.4f}\")"
   ]
  },
  {
   "cell_type": "code",
   "execution_count": 9,
   "metadata": {},
   "outputs": [
    {
     "name": "stdout",
     "output_type": "stream",
     "text": [
      "                            OLS Regression Results                            \n",
      "==============================================================================\n",
      "Dep. Variable:                      y   R-squared:                       0.059\n",
      "Model:                            OLS   Adj. R-squared:                  0.050\n",
      "Method:                 Least Squares   F-statistic:                     6.354\n",
      "Date:                Wed, 05 Mar 2025   Prob (F-statistic):             0.0133\n",
      "Time:                        14:06:22   Log-Likelihood:                -59.591\n",
      "No. Observations:                 103   AIC:                             123.2\n",
      "Df Residuals:                     101   BIC:                             128.5\n",
      "Df Model:                           1                                         \n",
      "Covariance Type:            nonrobust                                         \n",
      "=====================================================================================\n",
      "                        coef    std err          t      P>|t|      [0.025      0.975]\n",
      "-------------------------------------------------------------------------------------\n",
      "const                 0.1176      0.075      1.574      0.119      -0.031       0.266\n",
      "transplant_binary     0.2302      0.091      2.521      0.013       0.049       0.411\n",
      "==============================================================================\n",
      "Omnibus:                       22.540   Durbin-Watson:                   1.416\n",
      "Prob(Omnibus):                  0.000   Jarque-Bera (JB):               17.584\n",
      "Skew:                           0.902   Prob(JB):                     0.000152\n",
      "Kurtosis:                       2.080   Cond. No.                         3.24\n",
      "==============================================================================\n",
      "\n",
      "Notes:\n",
      "[1] Standard Errors assume that the covariance matrix of the errors is correctly specified.\n"
     ]
    }
   ],
   "source": [
    "import statsmodels.api as sm\n",
    "# Regress y on transplant using a linear model\n",
    "df[\"transplant_binary\"] = (df[\"transplant\"] == \"treatment\").astype(int)\n",
    "X = sm.add_constant(df[\"transplant_binary\"])  # Add constant term\n",
    "y = df[\"y\"]\n",
    "model = sm.OLS(y, X).fit()\n",
    "print(model.summary())"
   ]
  },
  {
   "cell_type": "markdown",
   "metadata": {},
   "source": [
    "The regression results align with the values calculated earlier. The intercept (const = 0.1176) represents the survival probability of the control group, which matches the previously calculated proportion of survival in the control group (0.1176). The coefficient on transplant_binary (0.2302) represents the difference in survival probabilities between the treatment and control groups, which matches the Average Treatment Effect (ATE = 0.2302).\n",
    "\n",
    "The linear regression essentially models survival probability as:\n",
    "B0=0.1176 (control group's survival probability),\n",
    "B1=0.2302 (increase in survival probability for the treatment group).\n",
    "Thus, the regression confirms the earlier calculations, demonstrating that the ATE is the difference in means between the treatment and control groups."
   ]
  },
  {
   "cell_type": "code",
   "execution_count": 10,
   "metadata": {},
   "outputs": [
    {
     "name": "stdout",
     "output_type": "stream",
     "text": [
      "                            OLS Regression Results                            \n",
      "==============================================================================\n",
      "Dep. Variable:                      y   R-squared:                       0.147\n",
      "Model:                            OLS   Adj. R-squared:                  0.130\n",
      "Method:                 Least Squares   F-statistic:                     8.602\n",
      "Date:                Wed, 05 Mar 2025   Prob (F-statistic):           0.000357\n",
      "Time:                        14:32:12   Log-Likelihood:                -54.558\n",
      "No. Observations:                 103   AIC:                             115.1\n",
      "Df Residuals:                     100   BIC:                             123.0\n",
      "Df Model:                           2                                         \n",
      "Covariance Type:            nonrobust                                         \n",
      "=====================================================================================\n",
      "                        coef    std err          t      P>|t|      [0.025      0.975]\n",
      "-------------------------------------------------------------------------------------\n",
      "const                 0.7020      0.196      3.583      0.001       0.313       1.091\n",
      "transplant_binary     0.2647      0.088      3.006      0.003       0.090       0.439\n",
      "age                  -0.0136      0.004     -3.204      0.002      -0.022      -0.005\n",
      "==============================================================================\n",
      "Omnibus:                       14.464   Durbin-Watson:                   1.370\n",
      "Prob(Omnibus):                  0.001   Jarque-Bera (JB):               12.288\n",
      "Skew:                           0.753   Prob(JB):                      0.00215\n",
      "Kurtosis:                       2.227   Cond. No.                         219.\n",
      "==============================================================================\n",
      "\n",
      "Notes:\n",
      "[1] Standard Errors assume that the covariance matrix of the errors is correctly specified.\n"
     ]
    }
   ],
   "source": [
    "# Regress y on transplant using a linear model\n",
    "df[\"transplant_binary\"] = (df[\"transplant\"] == \"treatment\").astype(int)\n",
    "X = sm.add_constant(df[[\"transplant_binary\", \"age\"]])  # Add constant term and age variable\n",
    "y = df[\"y\"]\n",
    "model = sm.OLS(y, X).fit()\n",
    "print(model.summary())"
   ]
  },
  {
   "cell_type": "markdown",
   "metadata": {},
   "source": [
    "The intercept increased from 0.1176 in the previous regression (without age) to 0.7020 in the new regression (with age). Previously, the intercept represented the survival probability of the control group (which was directly 0.1176). Now, the intercept represents the estimated survival probability for a patient in the control group when age is 0."
   ]
  },
  {
   "cell_type": "code",
   "execution_count": 14,
   "metadata": {},
   "outputs": [
    {
     "name": "stdout",
     "output_type": "stream",
     "text": [
      "                            OLS Regression Results                            \n",
      "==============================================================================\n",
      "Dep. Variable:                      y   R-squared:                       0.156\n",
      "Model:                            OLS   Adj. R-squared:                  0.112\n",
      "Method:                 Least Squares   F-statistic:                     3.563\n",
      "Date:                Wed, 05 Mar 2025   Prob (F-statistic):             0.0101\n",
      "Time:                        17:11:03   Log-Likelihood:                -41.411\n",
      "No. Observations:                  82   AIC:                             92.82\n",
      "Df Residuals:                      77   BIC:                             104.9\n",
      "Df Model:                           4                                         \n",
      "Covariance Type:            nonrobust                                         \n",
      "==============================================================================\n",
      "                 coef    std err          t      P>|t|      [0.025      0.975]\n",
      "------------------------------------------------------------------------------\n",
      "const          0.0812      0.461      0.176      0.861      -0.837       0.999\n",
      "x1             0.0125      0.025      0.506      0.614      -0.037       0.062\n",
      "x2             0.3694      0.221      1.668      0.099      -0.072       0.810\n",
      "x3            -0.0002      0.000     -0.728      0.469      -0.001       0.000\n",
      "x4            -0.0122      0.010     -1.222      0.225      -0.032       0.008\n",
      "x5             0.3694      0.221      1.668      0.099      -0.072       0.810\n",
      "==============================================================================\n",
      "Omnibus:                       11.172   Durbin-Watson:                   1.806\n",
      "Prob(Omnibus):                  0.004   Jarque-Bera (JB):               12.734\n",
      "Skew:                           0.954   Prob(JB):                      0.00172\n",
      "Kurtosis:                       2.706   Cond. No.                     1.45e+19\n",
      "==============================================================================\n",
      "\n",
      "Notes:\n",
      "[1] Standard Errors assume that the covariance matrix of the errors is correctly specified.\n",
      "[2] The smallest eigenvalue is 1.85e-30. This might indicate that there are\n",
      "strong multicollinearity problems or that the design matrix is singular.\n"
     ]
    },
    {
     "name": "stderr",
     "output_type": "stream",
     "text": [
      "/Users/chloe/Library/Python/3.9/lib/python/site-packages/sklearn/utils/validation.py:2739: UserWarning: X does not have valid feature names, but PolynomialFeatures was fitted with feature names\n",
      "  warnings.warn(\n"
     ]
    },
    {
     "data": {
      "image/png": "[encoded data removed]",
      "text/plain": [
       "<Figure size 800x600 with 1 Axes>"
      ]
     },
     "metadata": {},
     "output_type": "display_data"
    }
   ],
   "source": [
    "from sklearn.preprocessing import PolynomialFeatures\n",
    "from sklearn.model_selection import train_test_split\n",
    "\n",
    "# Create polynomial and interaction terms\n",
    "poly = PolynomialFeatures(degree=2, interaction_only=False, include_bias=False)\n",
    "X_poly = poly.fit_transform(df[[\"age\", \"transplant_binary\"]])\n",
    "\n",
    "# Train-test split\n",
    "X_train, X_test, y_train, y_test = train_test_split(X_poly, df[\"y\"], test_size=0.2, random_state=42)\n",
    "\n",
    "# Fit the model\n",
    "X_train = sm.add_constant(X_train)\n",
    "X_test = sm.add_constant(X_test)\n",
    "model = sm.OLS(y_train, X_train).fit()\n",
    "print(model.summary())\n",
    "\n",
    "# Predict survival probabilities by age\n",
    "age_range = np.linspace(df[\"age\"].min(), df[\"age\"].max(), 100)\n",
    "transplant_status = np.array([0] * 100 + [1] * 100)  # 0: Control, 1: Treatment\n",
    "age_expanded = np.concatenate([age_range, age_range])\n",
    "X_pred = poly.transform(np.column_stack((age_expanded, transplant_status)))\n",
    "X_pred = sm.add_constant(X_pred)\n",
    "y_pred = model.predict(X_pred)\n",
    "\n",
    "# Plot the results\n",
    "plt.figure(figsize=(8, 6))\n",
    "plt.plot(age_range, y_pred[:100], label=\"Control\", color='blue')\n",
    "plt.plot(age_range, y_pred[100:], label=\"Treatment\", color='red')\n",
    "plt.xlabel(\"Age\")\n",
    "plt.ylabel(\"Predicted Survival Probability\")\n",
    "plt.title(\"Predicted Survival Probability by Age and Treatment Status\")\n",
    "plt.legend()\n",
    "plt.show()"
   ]
  },
  {
   "cell_type": "markdown",
   "metadata": {},
   "source": [
    "The younger they are, those who get treatment are more likely to survive, whereas the older patients who received treatment are less likely. Those who did not receive treatment are more likely to survive if they are between 20 and 35 years old, while both the younger and older ages are less likely. Regardless, almost always is the survival rate better with treatment than without."
   ]
  },
  {
   "cell_type": "markdown",
   "metadata": {},
   "source": [
    "If an algorithm like this were used to decide who receives organ transplants, several ethical and practical concerns arise, particularly if the training data contains biases (e.g., past decisions were influenced by race, socioeconomic status, or healthcare access), the model could reinforce and perpetuate these biases. Additionally, historical disparities in medical treatment could lead to unfair scoring that disadvantages certain groups. Complex models with polynomial and interaction terms can be difficult to interpret, and both patients and doctors should understand why a particular individual is given or denied a transplant. Models should be used as a decision-support tool rather than an absolute rule."
   ]
  }
 ],
 "metadata": {
  "kernelspec": {
   "display_name": "Python 3",
   "language": "python",
   "name": "python3"
  },
  "language_info": {
   "codemirror_mode": {
    "name": "ipython",
    "version": 3
   },
   "file_extension": ".py",
   "mimetype": "text/x-python",
   "name": "python",
   "nbconvert_exporter": "python",
   "pygments_lexer": "ipython3",
   "version": "3.9.6"
  }
 },
 "nbformat": 4,
 "nbformat_minor": 2
}
